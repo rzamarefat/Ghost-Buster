{
 "cells": [
  {
   "cell_type": "markdown",
   "id": "ba59a1ca",
   "metadata": {},
   "source": [
    "# Ghost Buster"
   ]
  },
  {
   "cell_type": "markdown",
   "id": "a9eb25aa",
   "metadata": {},
   "source": [
    "## This module is provided with the object of implementing and solving a game which is called \"Ghost Buster\". "
   ]
  },
  {
   "cell_type": "markdown",
   "id": "055ddb84",
   "metadata": {},
   "source": [
    "## The following items introduce the whole procedure within this game: "
   ]
  },
  {
   "cell_type": "markdown",
   "id": "5a13919a",
   "metadata": {},
   "source": [
    "### 1. We have an environment which is symbolized using a grid of 4 * 6 \n",
    "### 2. There is a ghost located in one of the cells within the grid. Please note that the location of the ghost is totally random.\n",
    "### 3. There is an agent that is responsible to learn its way to the ghost in order to catch it.\n",
    "### 4. The following table depicts the colorisation rules based on the distance that the agent has with the ghost:\n",
    "### ***In order to calculate the distnace between the ghost and the agent we opt for the famouse manhattan method. Please note that the cell in which the agent itself is located may not be considered in this calculation.   \n",
    "| Distance (Manhattan) | Color |\n",
    "| --- | --- |\n",
    "| On the ghost | red |\n",
    "| 1 or 2 | orange |\n",
    "| 3 or 4 | yellow |\n",
    "| 5+ | green |"
   ]
  },
  {
   "cell_type": "markdown",
   "id": "893ce79f",
   "metadata": {},
   "source": [
    "# Solution in words"
   ]
  },
  {
   "cell_type": "markdown",
   "id": "796de14e",
   "metadata": {},
   "source": []
  },
  {
   "cell_type": "markdown",
   "id": "7e6dd0ba",
   "metadata": {},
   "source": [
    "# Implementation"
   ]
  },
  {
   "cell_type": "markdown",
   "id": "8dfdc463",
   "metadata": {},
   "source": [
    "from ipywidgets import *\n",
    "from ipywidgets import GridspecLayout"
   ]
  },
  {
   "cell_type": "markdown",
   "id": "993d61d7",
   "metadata": {},
   "source": [
    "### First we import all the libraries that we need\n",
    "#### please note that I have used ipywidgets in order to make an UI for this algorithm. "
   ]
  },
  {
   "cell_type": "code",
   "execution_count": null,
   "id": "cd112b4e",
   "metadata": {},
   "outputs": [],
   "source": [
    "from ipywidgets import *\n",
    "from ipywidgets import GridspecLayout, Button, Layout, IntText\n",
    "from random import randint"
   ]
  },
  {
   "cell_type": "markdown",
   "id": "3479caf2",
   "metadata": {},
   "source": [
    "### I have implemented a class of \"Environment\" which takes control of UI and creates the grid. Also, this class has some utility methods which are explained by comments. "
   ]
  },
  {
   "cell_type": "code",
   "execution_count": null,
   "id": "6daedc5d",
   "metadata": {},
   "outputs": [],
   "source": [
    "class Ghost:\n",
    "    def __init__(self, position_x, position_y):\n",
    "        self.position_x = position_x\n",
    "        self.position_y = position_y\n",
    "        \n",
    "    def declare_position(self):\n",
    "        print(f\"The position of of the agent is x:{self.position_x} y:{self.position_y}\")\n",
    "        \n",
    "class Agent:\n",
    "    def __init__(self, position_x, position_y):\n",
    "        self.position_x = position_x\n",
    "        self.position_y = position_y\n",
    "    \n",
    "    def move_to(self, new_position_x, new_position_y):\n",
    "        self.position_x = new_position_x\n",
    "        self.position_y = new_position_y\n",
    "        \n",
    "    def declare_position(self):\n",
    "        print(f\"The position of of the agent is x:{self.position_x} y:{self.position_y}\")"
   ]
  },
  {
   "cell_type": "code",
   "execution_count": null,
   "id": "42eb1c83",
   "metadata": {},
   "outputs": [],
   "source": [
    "class Environment:\n",
    "    def __init__(self, number_of_rows=10, number_of_columns=10):\n",
    "        self.number_of_rows = number_of_rows\n",
    "        self.number_of_columns = number_of_columns\n",
    "        self.steps_to_find = 1\n",
    "        self.grid = GridspecLayout(self.number_of_rows, self.number_of_columns)\n",
    "        self.previuosly_checked_cells = []\n",
    "        \n",
    "    def __place_element(self):\n",
    "        while True:\n",
    "            element_location_x = randint(0, self.number_of_rows - 1)\n",
    "            element_location_y = randint(0, self.number_of_columns - 1)\n",
    "            \n",
    "            if not (element_location_x, element_location_y) in self.previuosly_checked_cells:\n",
    "                return (element_location_x, element_location_y)\n",
    "    \n",
    "    def __update_cell_color(self, element_inside, position, color=None):\n",
    "        if element_inside == \"ghost\":\n",
    "            self.grid[position[0], position[1]] = Button(description=f\"{position[0]} {position[1]}\", \n",
    "                                                         layout=Layout(height='auto', width='auto'), \n",
    "                                                         style=ButtonStyle(button_color=color))\n",
    "            return self.grid\n",
    "        elif element_inside == \"agent\":\n",
    "            self.grid[position[0], position[1]] = Button(description=f\"{position[0]} {position[1]}\", \n",
    "                                                         layout=Layout(height='auto', width='auto'), \n",
    "                                                         style=ButtonStyle(button_color=color))\n",
    "            return self.grid\n",
    "    \n",
    "    def __make_cell(self, label, cell_color):\n",
    "        return Button(description=label, \n",
    "                      layout=Layout(height='auto', width='auto'), \n",
    "                      style=ButtonStyle(button_color=cell_color))\n",
    "    \n",
    "    def __show_results(self):\n",
    "        print(f\"The agent has found the ghost in {self.steps_to_find} step(s)\")\n",
    "    \n",
    "    def __calculate_distance(self, agent_position, ghost_position):\n",
    "        distance = abs(agent_position[0] - ghost_position[0]) + abs(agent_position[1] - ghost_position[1])\n",
    "        return distance\n",
    "    \n",
    "    def __infer_color_based_on_distance(self, distance):\n",
    "        if distance == 0:\n",
    "            return \"#EB4511\"\n",
    "        elif distance == 1 or distance == 2:\n",
    "            return \"#FA824C\"\n",
    "        elif distance == 3 or distance == 4:\n",
    "            return \"#F3D34A\"\n",
    "        elif distance >= 5:\n",
    "            return \"#A4F9C8\"\n",
    "        \n",
    "    def setup_grid(self):\n",
    "        \n",
    "        for row in range(self.number_of_rows):\n",
    "            for column in range(self.number_of_columns):\n",
    "                self.grid[row, column] = self.__make_cell(f\"{row} {column}\", \"#C1BFB5\")\n",
    "                \n",
    "        return self.grid\n",
    "    \n",
    "    def play(self):\n",
    "        ghost_position_x, ghost_position_y = self.__place_element()\n",
    "        ghost = Ghost(ghost_position_x, ghost_position_y)\n",
    "        ghost.declare_position()\n",
    "        self.__update_cell_color(\"ghost\", (ghost_position_x, ghost_position_y), color=\"#EB4511\")\n",
    "        \n",
    "        agent_position_x, agent_position_y = self.__place_element()\n",
    "        self.previuosly_checked_cells.append((agent_position_x, agent_position_y))\n",
    "        agent = Agent(agent_position_x, agent_position_y)\n",
    "    \n",
    "        \n",
    "        agent_found_ghost = False\n",
    "        while not agent_found_ghost:\n",
    "            agent_position_x, agent_position_y = agent.position_x, agent.position_y\n",
    "            if agent_position_x == ghost_position_x and agent_position_y == ghost_position_y:\n",
    "                agent_found_ghost = True\n",
    "                self.__show_results()\n",
    "            else:\n",
    "                self.steps_to_find += 1\n",
    "                distance = self.__calculate_distance((agent_position_x, agent_position_y), (ghost_position_x, ghost_position_y))\n",
    "                infered_color = self.__infer_color_based_on_distance(distance)\n",
    "                self.__update_cell_color(\"agent\", (agent_position_x, agent_position_y), infered_color)\n",
    "                agent_position_x, agent_position_y = self.__place_element()\n",
    "                agent.move_to(agent_position_x, agent_position_y)"
   ]
  },
  {
   "cell_type": "code",
   "execution_count": null,
   "id": "e5c866a6",
   "metadata": {},
   "outputs": [],
   "source": [
    "environment = Environment(number_of_rows=20, number_of_columns=20)\n",
    "grid = environment.setup_grid()\n",
    "grid"
   ]
  },
  {
   "cell_type": "code",
   "execution_count": null,
   "id": "4386ae4b",
   "metadata": {},
   "outputs": [],
   "source": [
    "environment.play()"
   ]
  },
  {
   "cell_type": "code",
   "execution_count": null,
   "id": "28dbe75f",
   "metadata": {},
   "outputs": [],
   "source": []
  },
  {
   "cell_type": "code",
   "execution_count": null,
   "id": "d5062f56",
   "metadata": {},
   "outputs": [],
   "source": []
  },
  {
   "cell_type": "code",
   "execution_count": null,
   "id": "5ef1dbaf",
   "metadata": {},
   "outputs": [],
   "source": []
  }
 ],
 "metadata": {
  "kernelspec": {
   "display_name": "Python 3",
   "language": "python",
   "name": "python3"
  },
  "language_info": {
   "codemirror_mode": {
    "name": "ipython",
    "version": 3
   },
   "file_extension": ".py",
   "mimetype": "text/x-python",
   "name": "python",
   "nbconvert_exporter": "python",
   "pygments_lexer": "ipython3",
   "version": "3.8.8"
  }
 },
 "nbformat": 4,
 "nbformat_minor": 5
}
